{
 "cells": [
  {
   "cell_type": "markdown",
   "id": "5ea1ac58",
   "metadata": {},
   "source": [
    "## 1 - Logistic Regression\n",
    "\n",
    "### Problem Statement\n",
    "\n",
    "Suppose that you are the administrator of a university department and you want to determine each applicant’s chance of admission based on their results on two exams. \n",
    "* You have historical data from previous applicants that you can use as a training set for logistic regression. \n",
    "* For each training example, you have the applicant’s scores on two exams and the admissions decision. \n",
    "* Your task is to build a classification model that estimates an applicant’s probability of admission based on the scores from those two exams. "
   ]
  },
  {
   "cell_type": "markdown",
   "id": "ae14327a",
   "metadata": {},
   "source": [
    "## Packages \n",
    "\n",
    "First,import all the packages that you will need for this task."
   ]
  },
  {
   "cell_type": "code",
   "execution_count": 6,
   "id": "8acf982e",
   "metadata": {},
   "outputs": [
    {
     "name": "stdout",
     "output_type": "stream",
     "text": [
      "Kernel ready for task\n"
     ]
    }
   ],
   "source": [
    "import numpy as np\n",
    "import matplotlib.pyplot as plt\n",
    "from utils import *\n",
    "import copy\n",
    "import math\n",
    "\n",
    "%matplotlib inline\n",
    "\n",
    "print('Kernel ready for task')"
   ]
  },
  {
   "cell_type": "markdown",
   "id": "a8e2d5a8",
   "metadata": {},
   "source": [
    " `Load the dataset`"
   ]
  },
  {
   "cell_type": "code",
   "execution_count": 7,
   "id": "7753019e",
   "metadata": {},
   "outputs": [],
   "source": [
    "# Load the dataset\n",
    "X_train, y_train = load_data(\"data/ex2data1.txt\")"
   ]
  },
  {
   "cell_type": "markdown",
   "id": "39163867",
   "metadata": {},
   "source": [
    "#### View the variables\n",
    "Let's get more familiar with your dataset.  \n",
    "- A good place to start is to just print out each variable and see what it contains.\n",
    "\n",
    "The code below prints the first five values of `X_train` and the type of the variable."
   ]
  },
  {
   "cell_type": "code",
   "execution_count": 8,
   "id": "af08e04e",
   "metadata": {},
   "outputs": [
    {
     "name": "stdout",
     "output_type": "stream",
     "text": [
      "First five elements in X_train ara:\n",
      " [[34.62365962 78.02469282]\n",
      " [30.28671077 43.89499752]\n",
      " [35.84740877 72.90219803]\n",
      " [60.18259939 86.3085521 ]\n",
      " [79.03273605 75.34437644]]\n",
      "Type of X_train: <class 'numpy.ndarray'>\n"
     ]
    }
   ],
   "source": [
    "print(\"First five elements in X_train ara:\\n\", X_train[:5])\n",
    "print(\"Type of X_train:\", type(X_train))"
   ]
  },
  {
   "cell_type": "markdown",
   "id": "7d141041",
   "metadata": {},
   "source": [
    "Now print the first five values of `y_train`"
   ]
  },
  {
   "cell_type": "code",
   "execution_count": 9,
   "id": "b975ee15",
   "metadata": {},
   "outputs": [
    {
     "name": "stdout",
     "output_type": "stream",
     "text": [
      "First five elements in y_train are:\n",
      " [0. 0. 0. 1. 1.]\n",
      "Type of y_train: <class 'numpy.ndarray'>\n"
     ]
    }
   ],
   "source": [
    "print(\"First five elements in y_train are:\\n\", y_train[:5])\n",
    "print(\"Type of y_train:\",type(y_train))"
   ]
  },
  {
   "cell_type": "markdown",
   "id": "668d025b",
   "metadata": {},
   "source": [
    "### Check the dimensions of your variables\n",
    "- Another useful way to get familiar with your data is to view its dimensions."
   ]
  },
  {
   "cell_type": "code",
   "execution_count": 10,
   "id": "c7f92d14",
   "metadata": {},
   "outputs": [
    {
     "name": "stdout",
     "output_type": "stream",
     "text": [
      "The shape of X_train is: (100, 2)\n",
      "The shape of y_train is: (100,)\n",
      "We have m = 100 training examples\n"
     ]
    }
   ],
   "source": [
    "print ('The shape of X_train is: ' + str(X_train.shape))\n",
    "print ('The shape of y_train is: ' + str(y_train.shape))\n",
    "print ('We have m = %d training examples' % (len(y_train)))\n"
   ]
  },
  {
   "cell_type": "markdown",
   "id": "378f66b5",
   "metadata": {},
   "source": [
    "#### Visualize your data\n",
    "\n",
    "Before starting to implement any learning algorithm, it is always good to visualize the data if possible."
   ]
  },
  {
   "cell_type": "code",
   "execution_count": 11,
   "id": "32c9cc73",
   "metadata": {},
   "outputs": [
    {
     "data": {
      "image/png": "[encoded data removed]",
      "text/plain": [
       "<Figure size 640x480 with 1 Axes>"
      ]
     },
     "metadata": {},
     "output_type": "display_data"
    }
   ],
   "source": [
    "# Plot examples\n",
    "plot_data(X_train, y_train[:], pos_label=\"Admitted\", neg_label=\"Not admitted\")\n",
    "\n",
    "# Set the y-axis label\n",
    "plt.ylabel('Exam 2 score') \n",
    "# Set the x-axis label\n",
    "plt.xlabel('Exam 1 score') \n",
    "plt.legend(loc=\"upper right\")\n",
    "plt.show()"
   ]
  },
  {
   "cell_type": "markdown",
   "id": "62958cd0",
   "metadata": {},
   "source": [
    "Your goal is to build a logistic regression model to fit this data.\n",
    "- With this model, you can then predict if a new student will be admitted based on their scores on the two exams."
   ]
  },
  {
   "cell_type": "markdown",
   "id": "6be49d95",
   "metadata": {},
   "source": [
    "###  Sigmoid function\n",
    "For logistic regression, the model is represented as\n",
    "\n",
    "$$ f_{\\mathbf{w},b}(x) = g(\\mathbf{w}\\cdot \\mathbf{x} + b)$$\n",
    "where function $g$ is the sigmoid function. The sigmoid function is defined as:\n",
    "\n",
    "$$g(z) = \\frac{1}{1+e^{-z}}$$\n"
   ]
  },
  {
   "cell_type": "code",
   "execution_count": 12,
   "id": "28d7627f",
   "metadata": {},
   "outputs": [],
   "source": [
    "def sigmoid(z):\n",
    "    \"\"\"\n",
    "    Compute the sigmoid of z\n",
    "\n",
    "    Args:\n",
    "        z (ndarray): A scalar, numpy array of any size.\n",
    "\n",
    "    Returns:\n",
    "        g (ndarray): sigmoid(z), with the same shape as z\n",
    "         \n",
    "    \"\"\"\n",
    "          \n",
    "    ### START CODE HERE ### \n",
    "    g = 1/(1+np.exp(-z))\n",
    "    ### END SOLUTION ###  \n",
    "    \n",
    "    return g"
   ]
  },
  {
   "cell_type": "code",
   "execution_count": 13,
   "id": "49895954",
   "metadata": {},
   "outputs": [
    {
     "name": "stdout",
     "output_type": "stream",
     "text": [
      "Sigmoid(0) = 0.5\n"
     ]
    }
   ],
   "source": [
    "# lets test the sigmoid function\n",
    "print(\"Sigmoid(0) = \" + str(sigmoid(0)))"
   ]
  },
  {
   "cell_type": "markdown",
   "id": "286a07f9",
   "metadata": {},
   "source": [
    "your code should also work with vectors and matrices. For a matrix, your function should perform the sigmoid function on every element."
   ]
  },
  {
   "cell_type": "code",
   "execution_count": 14,
   "id": "63960490",
   "metadata": {},
   "outputs": [
    {
     "name": "stdout",
     "output_type": "stream",
     "text": [
      "sigmoid([-1, 0, 1, 2]) = [0.26894142 0.5        0.73105858 0.88079708]\n",
      "\u001b[92mAll tests passed!\n"
     ]
    }
   ],
   "source": [
    "# Unit test\n",
    "print (\"sigmoid([-1, 0, 1, 2]) = \" + str(sigmoid(np.array([-1, 0, 1, 2]))))\n",
    "\n",
    "from public_tests import *\n",
    "sigmoid_test(sigmoid)\n"
   ]
  },
  {
   "cell_type": "markdown",
   "id": "88d7caa6",
   "metadata": {},
   "source": [
    "### Cost function for logistic regression\n",
    "\n",
    "In this section, you will implement the cost function for logistic regression."
   ]
  },
  {
   "cell_type": "markdown",
   "id": "a0087670",
   "metadata": {},
   "source": [
    "Cost function is of the form:\n",
    "\n",
    "$$ J(\\mathbf{w},b) = \\frac{1}{m}\\sum_{i=0}^{m-1} \\left[ loss(f_{\\mathbf{w},b}(\\mathbf{x}^{(i)}), y^{(i)}) \\right] \\tag{1}$$\n",
    "\n",
    "where\n",
    "* m is the number of training examples in the dataset\n",
    "* $loss(f_{\\mathbf{w},b}(\\mathbf{x}^{(i)}), y^{(i)})$ is the cost for a single data point, which is - \n",
    "\n",
    "    $$loss(f_{\\mathbf{w},b}(\\mathbf{x}^{(i)}), y^{(i)}) = (-y^{(i)} \\log\\left(f_{\\mathbf{w},b}\\left( \\mathbf{x}^{(i)} \\right) \\right) - \\left( 1 - y^{(i)}\\right) \\log \\left( 1 - f_{\\mathbf{w},b}\\left( \\mathbf{x}^{(i)} \\right) \\right) \\tag{2}$$\n",
    "    \n",
    "    \n",
    "*  $f_{\\mathbf{w},b}(\\mathbf{x}^{(i)})$ is the model's prediction, while $y^{(i)}$, which is the actual label\n",
    "\n",
    "*  $f_{\\mathbf{w},b}(\\mathbf{x}^{(i)}) = g(\\mathbf{w} \\cdot \\mathbf{x^{(i)}} + b)$ where function $g$ is the sigmoid function."
   ]
  },
  {
   "cell_type": "code",
   "execution_count": 15,
   "id": "62083447",
   "metadata": {},
   "outputs": [],
   "source": [
    "# Cost function\n",
    "def compute_cost(X, y, w, b, lambda_= 1):\n",
    "    \"\"\"\n",
    "    Computes the cost over all examples\n",
    "    Args:\n",
    "      X : (ndarray Shape (m,n)) data, m examples by n features\n",
    "      y : (array_like Shape (m,)) target value \n",
    "      w : (array_like Shape (n,)) Values of parameters of the model      \n",
    "      b : scalar Values of bias parameter of the model\n",
    "      lambda_: unused placeholder\n",
    "    Returns:\n",
    "      total_cost: (scalar)         cost \n",
    "    \"\"\"\n",
    "\n",
    "    m, n = X.shape\n",
    "    \n",
    "    ### START CODE HERE ###\n",
    "    cost = 0\n",
    "    for i in range(m):\n",
    "        f_wb = sigmoid(np.dot(X[i],w) + b)\n",
    "        cost += -y[i]*np.log(f_wb) - (1-y[i])*np.log(1-f_wb)\n",
    "    total_cost = cost/m\n",
    "    \n",
    "    ### END CODE HERE ### \n",
    "\n",
    "    return total_cost"
   ]
  },
  {
   "cell_type": "code",
   "execution_count": 16,
   "id": "c68c4a34",
   "metadata": {},
   "outputs": [
    {
     "name": "stdout",
     "output_type": "stream",
     "text": [
      "Cost at initial_w (zeros): 0.693\n"
     ]
    }
   ],
   "source": [
    "# Check the implementation of the compute cost function\n",
    "m, n = X_train.shape\n",
    "initial_w = np.zeros(n)\n",
    "initial_b = 0.\n",
    "cost = compute_cost(X_train, y_train, initial_w, initial_b)\n",
    "print('Cost at initial_w (zeros): {:.3f}'.format(cost))"
   ]
  },
  {
   "cell_type": "code",
   "execution_count": 17,
   "id": "a7172eee",
   "metadata": {},
   "outputs": [
    {
     "name": "stdout",
     "output_type": "stream",
     "text": [
      "Cost at test w,b: 0.218\n",
      "\u001b[92mAll tests passed!\n"
     ]
    }
   ],
   "source": [
    "# Compute and display cost with non-zeros w\n",
    "test_w = np.array([0.2, 0.2])\n",
    "test_b = -24\n",
    "cost = compute_cost(X_train, y_train, test_w, test_b)\n",
    "\n",
    "print('Cost at test w,b: {:.3f}'.format(cost))\n",
    "compute_cost_test(compute_cost)"
   ]
  },
  {
   "cell_type": "markdown",
   "id": "bba55846",
   "metadata": {},
   "source": [
    "<a name=\"2.5\"></a>\n",
    "### Gradient for logistic regression\n",
    "\n",
    "Recall that the gradient descent algorithm is:\n",
    "\n",
    "$$\\begin{align*}& \\text{repeat until convergence:} \\; \\lbrace \\newline \\; & b := b -  \\alpha \\frac{\\partial J(\\mathbf{w},b)}{\\partial b} \\newline       \\; & w_j := w_j -  \\alpha \\frac{\\partial J(\\mathbf{w},b)}{\\partial w_j} \\tag{1}  \\; & \\text{for j := 0..n-1}\\newline & \\rbrace\\end{align*}$$\n",
    "\n",
    "where, parameters $b$, $w_j$ are all updated simultaniously"
   ]
  },
  {
   "cell_type": "code",
   "execution_count": 18,
   "id": "a89d2a91",
   "metadata": {},
   "outputs": [],
   "source": [
    "# gradient function for logistic regression\n",
    "def compute_gradient(X, y, w, b, lambda_=None):\n",
    "    \"\"\"\n",
    "    Computes the gradient for logistic regression \n",
    " \n",
    "    Args:\n",
    "      X : (ndarray Shape (m,n)) variable such as house size \n",
    "      y : (array_like Shape (m,1)) actual value \n",
    "      w : (array_like Shape (n,1)) values of parameters of the model      \n",
    "      b : (scalar)                 value of parameter of the model \n",
    "      lambda_: unused placeholder.\n",
    "    Returns\n",
    "      dj_dw: (array_like Shape (n,1)) The gradient of the cost w.r.t. the parameters w. \n",
    "      dj_db: (scalar)                The gradient of the cost w.r.t. the parameter b. \n",
    "    \"\"\"\n",
    "    m, n = X.shape\n",
    "    dj_dw = np.zeros(w.shape)\n",
    "    dj_db = 0.\n",
    "\n",
    "    ### START THE CODE HERE\n",
    "    for i in range(m):\n",
    "        f_wb_i = sigmoid(np.dot(X[i],w) + b)\n",
    "        err_i = f_wb_i - y[i]\n",
    "        for j in range(n):\n",
    "            dj_dw[j] += err_i * X[i,j]\n",
    "        dj_db += err_i\n",
    "    \n",
    "    dj_dw /= m\n",
    "    dj_db /= m\n",
    "    ### END CODE HERE\n",
    "    return dj_db, dj_dw\n"
   ]
  },
  {
   "cell_type": "markdown",
   "id": "3e705d28",
   "metadata": {},
   "source": [
    "Implementation of `compute_gradient`"
   ]
  },
  {
   "cell_type": "code",
   "execution_count": 19,
   "id": "64e3fe56",
   "metadata": {},
   "outputs": [
    {
     "name": "stdout",
     "output_type": "stream",
     "text": [
      "dj_db at initial w (zeros): -0.1\n",
      "dj_dw ata initial w (zeros): [-12.00921658929115, -11.262842205513591]\n"
     ]
    }
   ],
   "source": [
    "# Compute and display gradient with w initialized to zeros\n",
    "initial_w = np.zeros(n)\n",
    "initial_b = 0.\n",
    "\n",
    "dj_db, dj_dw = compute_gradient(X_train, y_train, initial_w, initial_b)\n",
    "print(f\"dj_db at initial w (zeros): {dj_db}\")\n",
    "print(f\"dj_dw ata initial w (zeros): {dj_dw.tolist()}\")"
   ]
  },
  {
   "cell_type": "code",
   "execution_count": 20,
   "id": "d7c247ae",
   "metadata": {},
   "outputs": [
    {
     "name": "stdout",
     "output_type": "stream",
     "text": [
      "dj_db at test_w: -0.5999999999991071\n",
      "dj_dw at test_w [-44.831353617873795, -44.37384124953978]\n",
      "\u001b[92mAll tests passed!\n"
     ]
    }
   ],
   "source": [
    "# Compute and display cost and gradient with non-zeros w\n",
    "\n",
    "test_w = np.array([0.2, -0.5])\n",
    "test_b = -24\n",
    "dj_db, dj_dw = compute_gradient(X_train, y_train, test_w, test_b)\n",
    "\n",
    "print('dj_db at test_w:', dj_db)\n",
    "print('dj_dw at test_w', dj_dw.tolist())\n",
    "\n",
    "# Unit test\n",
    "compute_gradient_test(compute_gradient)"
   ]
  },
  {
   "cell_type": "markdown",
   "id": "18ce324e",
   "metadata": {},
   "source": [
    "<a name=\"2.6\"></a>\n",
    "### Learning parameters using gradient descent \n",
    "\n",
    "you will now find the optimal parameters of a logistic regression model by using gradient descent. \n",
    "\n",
    "- A good way to verify that gradient descent is working correctly is to look\n",
    "at the value of $J(\\mathbf{w},b)$ and check that it is decreasing with each step. \n",
    "\n",
    "- Assuming you have implemented the gradient and computed the cost correctly, your value of $J(\\mathbf{w},b)$ should never increase, and should converge to a steady value by the end of the algorithm."
   ]
  },
  {
   "cell_type": "code",
   "execution_count": 21,
   "id": "a7717adb",
   "metadata": {},
   "outputs": [],
   "source": [
    "def gradient_descent(X, y, w_in, b_in, cost_function, gradient_function, alpha, num_iters, lambda_): \n",
    "    \"\"\"\n",
    "    Performs batch gradient descent to learn theta. Updates theta by taking \n",
    "    num_iters gradient steps with learning rate alpha\n",
    "    \n",
    "    Args:\n",
    "      X :    (array_like Shape (m, n)\n",
    "      y :    (array_like Shape (m,))\n",
    "      w_in : (array_like Shape (n,))  Initial values of parameters of the model\n",
    "      b_in : (scalar)                 Initial value of parameter of the model\n",
    "      cost_function:                  function to compute cost\n",
    "      alpha : (float)                 Learning rate\n",
    "      num_iters : (int)               number of iterations to run gradient descent\n",
    "      lambda_ (scalar, float)         regularization constant\n",
    "      \n",
    "    Returns:\n",
    "      w : (array_like Shape (n,)) Updated values of parameters of the model after\n",
    "          running gradient descent\n",
    "      b : (scalar)                Updated value of parameter of the model after\n",
    "          running gradient descent\n",
    "    \"\"\"\n",
    "    \n",
    "    # number of training examples\n",
    "    m = len(X)\n",
    "    \n",
    "    # An array to store cost J and w's at each iteration primarily for graphing later\n",
    "    J_history = []\n",
    "    w_history = []\n",
    "    \n",
    "    for i in range(num_iters):\n",
    "\n",
    "        # Calculate the gradient and update the parameters\n",
    "        dj_db, dj_dw = gradient_function(X, y, w_in, b_in, lambda_)   \n",
    "\n",
    "        # Update Parameters using w, b, alpha and gradient\n",
    "        w_in = w_in - alpha * dj_dw               \n",
    "        b_in = b_in - alpha * dj_db              \n",
    "       \n",
    "        # Save cost J at each iteration\n",
    "        if i<100000:      # prevent resource exhaustion \n",
    "            cost =  cost_function(X, y, w_in, b_in, lambda_)\n",
    "            J_history.append(cost)\n",
    "\n",
    "        # Print cost every at intervals 10 times or as many iterations if < 10\n",
    "        if i% math.ceil(num_iters/10) == 0 or i == (num_iters-1):\n",
    "            w_history.append(w_in)\n",
    "            print(f\"Iteration {i:4}: Cost {float(J_history[-1]):8.2f}   \")\n",
    "        \n",
    "    return w_in, b_in, J_history, w_history #return w and J,w history for graphing"
   ]
  },
  {
   "cell_type": "markdown",
   "id": "83f6ec79",
   "metadata": {},
   "source": [
    "Now let's run the gradient descent algorithm above to learn the parameters for our dataset."
   ]
  },
  {
   "cell_type": "code",
   "execution_count": 22,
   "id": "6d6ca4cd",
   "metadata": {},
   "outputs": [
    {
     "name": "stderr",
     "output_type": "stream",
     "text": [
      "C:\\Users\\muran\\AppData\\Local\\Temp\\ipykernel_4088\\4135190203.py:47: DeprecationWarning: Conversion of an array with ndim > 0 to a scalar is deprecated, and will error in future. Ensure you extract a single element from your array before performing this operation. (Deprecated NumPy 1.25.)\n",
      "  print(f\"Iteration {i:4}: Cost {float(J_history[-1]):8.2f}   \")\n"
     ]
    },
    {
     "name": "stdout",
     "output_type": "stream",
     "text": [
      "Iteration    0: Cost     1.45   \n"
     ]
    },
    {
     "name": "stdout",
     "output_type": "stream",
     "text": [
      "Iteration  500: Cost     0.31   \n",
      "Iteration 1000: Cost     0.31   \n",
      "Iteration 1500: Cost     0.30   \n",
      "Iteration 2000: Cost     0.30   \n",
      "Iteration 2500: Cost     0.30   \n",
      "Iteration 3000: Cost     0.30   \n",
      "Iteration 3500: Cost     0.30   \n",
      "Iteration 4000: Cost     0.30   \n",
      "Iteration 4500: Cost     0.30   \n",
      "Iteration 4999: Cost     0.30   \n"
     ]
    }
   ],
   "source": [
    "np.random.seed(1)\n",
    "initial_w = 0.1 * (np.random.randn(2).reshape(-1,1) - 0.5)\n",
    "initial_b = -8\n",
    "\n",
    "# Some gradient descent settings\n",
    "iterations = 5000\n",
    "alpha = 0.001\n",
    "\n",
    "w,b, J_history,_ = gradient_descent(X_train, y_train, initial_w, initial_b, compute_cost, compute_gradient, alpha, iterations, 0)\n"
   ]
  },
  {
   "cell_type": "markdown",
   "id": "a863d7d3",
   "metadata": {},
   "source": [
    "### Plotting the decision boundary\n",
    "\n",
    "We will now use the final parameters from gradient descent to plot the linear fit. If you implemented the previous parts correctly, you should see the following plot:  "
   ]
  },
  {
   "cell_type": "code",
   "execution_count": 23,
   "id": "6ef039ee",
   "metadata": {},
   "outputs": [
    {
     "data": {
      "image/png": "[encoded data removed]",
      "text/plain": [
       "<Figure size 640x480 with 1 Axes>"
      ]
     },
     "metadata": {},
     "output_type": "display_data"
    }
   ],
   "source": [
    "plot_decision_boundary(w, b, X_train, y_train)"
   ]
  },
  {
   "cell_type": "markdown",
   "id": "016ebee6",
   "metadata": {},
   "source": [
    "### Evaluating logistic regression\n",
    "\n",
    "We can evaluate the quality of the parameters we have found by seeing how well the learned model predicts on our training set.\n",
    "- We interpret the output of the model ($f(x^{(i)})$) as the probability that $y^{(i)}=1$ given $x^{(i)}$ and parameterized by $w$.\n",
    "- Therefore, to get a final prediction ($y^{(i)}=0$ or $y^{(i)}=1$) from the logistic regression model, you can use the following heuristic -\n",
    "\n",
    "  if $f(x^{(i)}) >= 0.5$, predict $y^{(i)}=1$\n",
    "  \n",
    "  if $f(x^{(i)}) < 0.5$, predict $y^{(i)}=0$\n",
    "\n",
    "Implement the `predict` function below to do this.\n"
   ]
  },
  {
   "cell_type": "code",
   "execution_count": 29,
   "id": "db1e36d6",
   "metadata": {},
   "outputs": [],
   "source": [
    "# Predict function\n",
    "def predict(X, w, b): \n",
    "    \"\"\"\n",
    "    Predict whether the label is 0 or 1 using learned logistic\n",
    "    regression parameters w\n",
    "    \n",
    "    Args:\n",
    "    X : (ndarray Shape (m, n))\n",
    "    w : (array_like Shape (n,))      Parameters of the model\n",
    "    b : (scalar, float)              Parameter of the model\n",
    "\n",
    "    Returns:\n",
    "    p: (ndarray (m,1))\n",
    "        The predictions for X using a threshold at 0.5\n",
    "    \"\"\"\n",
    "    m, n = X.shape\n",
    "    p = np.zeros(m)\n",
    "\n",
    "    ### START THE CODE HERE\n",
    "    for i in range(m):\n",
    "        f_wb = sigmoid(np.dot(X[i],w) + b)\n",
    "\n",
    "        p[i] = 1 if f_wb>=0.5 else 0\n",
    "\n",
    "    ### END CODE HERE\n",
    "    return p"
   ]
  },
  {
   "cell_type": "markdown",
   "id": "2c99ae53",
   "metadata": {},
   "source": [
    "Run the code below to report the training accuracy of your classifier by computing the percentage of examples it got correct."
   ]
  },
  {
   "cell_type": "code",
   "execution_count": 25,
   "id": "99fcf2b7",
   "metadata": {},
   "outputs": [
    {
     "name": "stdout",
     "output_type": "stream",
     "text": [
      "Output of predict: shape (4,), value [0. 1. 1. 1.]\n",
      "\u001b[92mAll tests passed!\n"
     ]
    }
   ],
   "source": [
    "# Test your predict code\n",
    "np.random.seed(1)\n",
    "tmp_w = np.random.randn(2)\n",
    "tmp_b = 0.3    \n",
    "tmp_X = np.random.randn(4, 2) - 0.5\n",
    "\n",
    "tmp_p = predict(tmp_X, tmp_w, tmp_b)\n",
    "print(f'Output of predict: shape {tmp_p.shape}, value {tmp_p}')\n",
    "\n",
    "# UNIT TESTS        \n",
    "predict_test(predict)"
   ]
  },
  {
   "cell_type": "markdown",
   "id": "78952497",
   "metadata": {},
   "source": [
    "- Now let's use this to compute the accuracy on the training set"
   ]
  },
  {
   "cell_type": "code",
   "execution_count": 30,
   "id": "e993cd1b",
   "metadata": {},
   "outputs": [
    {
     "name": "stdout",
     "output_type": "stream",
     "text": [
      "Train Accuracy: 0.920000\n"
     ]
    }
   ],
   "source": [
    "# Test the model accuracy\n",
    "p = predict(X_train, w,b)\n",
    "print('Train Accuracy: %f'%(np.mean(p==y_train)))"
   ]
  },
  {
   "cell_type": "code",
   "execution_count": null,
   "id": "b307ccf0",
   "metadata": {},
   "outputs": [],
   "source": []
  }
 ],
 "metadata": {
  "kernelspec": {
   "display_name": "ml_env",
   "language": "python",
   "name": "python3"
  },
  "language_info": {
   "codemirror_mode": {
    "name": "ipython",
    "version": 3
   },
   "file_extension": ".py",
   "mimetype": "text/x-python",
   "name": "python",
   "nbconvert_exporter": "python",
   "pygments_lexer": "ipython3",
   "version": "3.12.3"
  }
 },
 "nbformat": 4,
 "nbformat_minor": 5
}
